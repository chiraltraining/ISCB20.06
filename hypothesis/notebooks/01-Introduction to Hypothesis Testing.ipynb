{
 "cells": [
  {
   "cell_type": "markdown",
   "metadata": {},
   "source": [
    "# Introduction to Hypothesis Testing"
   ]
  },
  {
   "cell_type": "markdown",
   "metadata": {},
   "source": [
    "## What is Hypothesis?\n",
    "- Proposed explanation for a phenomenon.\n",
    "- A hypothesis is an educated guess about something in the world around you. It should be testable, either by experiment or observation. \n",
    "\n",
    "- Proposed explanation\n",
    "- Objectively testable \n",
    "- Singular - hypothesis\n",
    "- Plural - hypotheses\n",
    "\n",
    "__Examples__\n",
    "\n",
    "- A new medicine you think might work.\n",
    "- A way of teaching you think might be better.\n",
    "- A possible location of new species.\n",
    "\n",
    "\n"
   ]
  },
  {
   "cell_type": "markdown",
   "metadata": {},
   "source": [
    "## What is a Hypothesis Statement?\n",
    "“If I…(do this to an **independent variable**)….then (this will happen to the **dependent variable**).”\n",
    "\n",
    "__Example__\n",
    "\n",
    "- If I (decrease the amount of water given to herbs) then (the herbs will increase in size).\n",
    "- If I (give patients counseling in addition to medication) then (their overall depression scale will decrease).\n",
    "- If I (give exams at noon instead of 7) then (student test scores will improve).\n",
    "\n",
    "A good hypothesis statement should:\n",
    "- Include an “if” and “then” statement (according to the University of California).\n",
    "- Include both the independent and dependent variables.\n",
    "- Be testable by experiment, survey or other scientifically sound technique.\n",
    "- Be based on information in prior research (either yours or someone else’s).\n",
    "- Have design criteria (for engineering or programming projects).\n"
   ]
  },
  {
   "cell_type": "markdown",
   "metadata": {},
   "source": [
    "## What is Hypothesis Testing?\n",
    "Hypothesis testing in statistics is a way for you to test the results of a survey or experiment to see if you have meaningful results. You’re basically testing whether your results are valid by figuring out the odds that your results have happened by chance. If your results may have happened by chance, the experiment won’t be repeatable and so has little use."
   ]
  },
  {
   "cell_type": "markdown",
   "metadata": {},
   "source": [
    "## Null and Alternative Hypothesis\n",
    "- Hypothesis 0 (H0): Assumption of the test holds and is failed to be rejected at some level of significance.\n",
    "- Hypothesis 1 (Ha): Assumption of the test does not hold and is rejected at some level of significance."
   ]
  },
  {
   "cell_type": "markdown",
   "metadata": {},
   "source": [
    "## Errors in Statistical Tests\n",
    "- **Type I Error:** The incorrect rejection of a true null hypothesis or a false positive.\n",
    "- **Type II Error:** The incorrect failure of rejection of a false null hypothesis or a false negative.\n",
    "\n",
    "![imgaes](../img/errors.png)"
   ]
  },
  {
   "cell_type": "markdown",
   "metadata": {},
   "source": [
    "## Alpha($\\alpha$)\n",
    "- $\\alpha$ is probability of rejecting H0 when H0 is true. \n",
    "- $\\alpha$ = Probability of Type-I error. \n",
    "- Ranges from 0 to 1\n",
    "- **High α is not good**"
   ]
  },
  {
   "cell_type": "markdown",
   "metadata": {},
   "source": [
    "## p-value\n",
    "- If p-value > alpha: Fail to reject the null hypothesis (i.e. not significant result).\n",
    "- If p-value <= alpha: Reject the null hypothesis (i.e. significant result)."
   ]
  },
  {
   "cell_type": "markdown",
   "metadata": {},
   "source": [
    "## Hypothesis Testing Process "
   ]
  },
  {
   "cell_type": "markdown",
   "metadata": {},
   "source": [
    "- **Step-1:** Null Hypothesis H0\n",
    "    - True until proven false\n",
    "    - Usually posits no relationship\n",
    "\n",
    "- **Step-2:** Select Test\n",
    "    - Pick from vast library\n",
    "    - Know which one to choose\n",
    "\n",
    "- **Step-3:** Significance Level\n",
    "    - Usually 1% or 5%\n",
    "    - What threshold for luck?\n",
    "\n",
    "- **Step-4:** Alternative Hypothesis\n",
    "    - Negation of null hypothesis\n",
    "    - Usually asserts specific relationship\n",
    "    \n",
    "- **Step-5:** Test Statistic\n",
    "    - Convert to p-value\n",
    "    - How likely it was just luck?\n",
    "\n",
    "\n",
    "- **Step-6:** Accept or Reject\n",
    "    - Small p-value? Reject H0 \n",
    "    - Small: Below significance level \n",
    "\n",
    "![images](../img/hypothesis.png)"
   ]
  },
  {
   "cell_type": "markdown",
   "metadata": {},
   "source": [
    "## Common Statistical Tests\n",
    "### Variable Distribution Type Tests (Gaussian)\n",
    "- Shapiro-Wilk Test\n",
    "- D’Agostino’s K^2 Test\n",
    "- Anderson-Darling Test\n",
    "\n",
    "### Variable Relationship Tests (correlation)\n",
    "- Pearson’s Correlation Coefficient\n",
    "- Spearman’s Rank Correlation\n",
    "- Kendall’s Rank Correlation\n",
    "- Chi-Squared Test\n",
    "\n",
    "### Compare Sample Means (parametric)\n",
    "- Student’s t-test\n",
    "- Paired Student’s t-test\n",
    "- Analysis of Variance Test (ANOVA)\n",
    "- Repeated Measures ANOVA Test\n",
    "\n",
    "### Compare Sample Means (nonparametric)\n",
    "- Mann-Whitney U Test\n",
    "- Wilcoxon Signed-Rank Test\n",
    "- Kruskal-Wallis H Test\n",
    "- Friedman Test"
   ]
  },
  {
   "cell_type": "code",
   "execution_count": 3,
   "metadata": {},
   "outputs": [],
   "source": [
    "import pandas as pd \n",
    "import numpy as np \n",
    "import seaborn as sns \n",
    "import matplotlib.pyplot as plt "
   ]
  },
  {
   "cell_type": "code",
   "execution_count": 5,
   "metadata": {},
   "outputs": [
    {
     "data": {
      "text/html": [
       "<div>\n",
       "<style scoped>\n",
       "    .dataframe tbody tr th:only-of-type {\n",
       "        vertical-align: middle;\n",
       "    }\n",
       "\n",
       "    .dataframe tbody tr th {\n",
       "        vertical-align: top;\n",
       "    }\n",
       "\n",
       "    .dataframe thead th {\n",
       "        text-align: right;\n",
       "    }\n",
       "</style>\n",
       "<table border=\"1\" class=\"dataframe\">\n",
       "  <thead>\n",
       "    <tr style=\"text-align: right;\">\n",
       "      <th></th>\n",
       "      <th>Gender</th>\n",
       "      <th>Age Group</th>\n",
       "      <th>Height(m)</th>\n",
       "      <th>Weight(kg)</th>\n",
       "    </tr>\n",
       "  </thead>\n",
       "  <tbody>\n",
       "    <tr>\n",
       "      <th>0</th>\n",
       "      <td>female</td>\n",
       "      <td>adult</td>\n",
       "      <td>1.4</td>\n",
       "      <td>60</td>\n",
       "    </tr>\n",
       "    <tr>\n",
       "      <th>1</th>\n",
       "      <td>male</td>\n",
       "      <td>child</td>\n",
       "      <td>1.2</td>\n",
       "      <td>15</td>\n",
       "    </tr>\n",
       "    <tr>\n",
       "      <th>2</th>\n",
       "      <td>male</td>\n",
       "      <td>adult</td>\n",
       "      <td>1.5</td>\n",
       "      <td>85</td>\n",
       "    </tr>\n",
       "    <tr>\n",
       "      <th>3</th>\n",
       "      <td>female</td>\n",
       "      <td>adult</td>\n",
       "      <td>1.3</td>\n",
       "      <td>74</td>\n",
       "    </tr>\n",
       "    <tr>\n",
       "      <th>4</th>\n",
       "      <td>male</td>\n",
       "      <td>adult</td>\n",
       "      <td>1.6</td>\n",
       "      <td>77</td>\n",
       "    </tr>\n",
       "    <tr>\n",
       "      <th>5</th>\n",
       "      <td>female</td>\n",
       "      <td>elderly</td>\n",
       "      <td>1.5</td>\n",
       "      <td>65</td>\n",
       "    </tr>\n",
       "  </tbody>\n",
       "</table>\n",
       "</div>"
      ],
      "text/plain": [
       "    Gender Age Group  Height(m)  Weight(kg)\n",
       "0   female     adult        1.4          60\n",
       "1    male     child         1.2          15\n",
       "2    male     adult         1.5          85\n",
       "3  female     adult         1.3          74\n",
       "4    male      adult        1.6          77\n",
       "5  female    elderly        1.5          65"
      ]
     },
     "execution_count": 5,
     "metadata": {},
     "output_type": "execute_result"
    }
   ],
   "source": [
    "df = pd.read_excel('../data/height_weight.xlsx')\n",
    "df "
   ]
  },
  {
   "cell_type": "code",
   "execution_count": 6,
   "metadata": {},
   "outputs": [
    {
     "data": {
      "text/plain": [
       "Gender         object\n",
       "Age Group      object\n",
       "Height(m)     float64\n",
       "Weight(kg)      int64\n",
       "dtype: object"
      ]
     },
     "execution_count": 6,
     "metadata": {},
     "output_type": "execute_result"
    }
   ],
   "source": [
    "df.dtypes"
   ]
  },
  {
   "cell_type": "code",
   "execution_count": 7,
   "metadata": {},
   "outputs": [
    {
     "name": "stdout",
     "output_type": "stream",
     "text": [
      "<class 'pandas.core.frame.DataFrame'>\n",
      "RangeIndex: 6 entries, 0 to 5\n",
      "Data columns (total 4 columns):\n",
      " #   Column      Non-Null Count  Dtype  \n",
      "---  ------      --------------  -----  \n",
      " 0   Gender      6 non-null      object \n",
      " 1   Age Group   6 non-null      object \n",
      " 2   Height(m)   6 non-null      float64\n",
      " 3   Weight(kg)  6 non-null      int64  \n",
      "dtypes: float64(1), int64(1), object(2)\n",
      "memory usage: 320.0+ bytes\n"
     ]
    }
   ],
   "source": [
    "df.info() "
   ]
  },
  {
   "cell_type": "code",
   "execution_count": 8,
   "metadata": {},
   "outputs": [
    {
     "data": {
      "text/plain": [
       "male       3\n",
       "female     2\n",
       "female     1\n",
       "Name: Gender, dtype: int64"
      ]
     },
     "execution_count": 8,
     "metadata": {},
     "output_type": "execute_result"
    }
   ],
   "source": [
    "df['Gender'].value_counts() "
   ]
  },
  {
   "cell_type": "markdown",
   "metadata": {},
   "source": [
    "## Statistical Test Selection \n",
    "- 1 categorical variable => 1 sample proportion test \n",
    "- 2 categorical variables => chi squared test \n",
    "- 1 numeric variable => t-test \n",
    "- 1 numeric and 1 categorical variable => t-test or ANOVA\n",
    "- more than 2 categorical variables => ANOVA\n",
    "-  2 numeric variables => correlation test "
   ]
  },
  {
   "cell_type": "markdown",
   "metadata": {},
   "source": [
    "## References\n",
    "- https://machinelearningmastery.com/statistical-hypothesis-tests/\n",
    "- https://www.statisticshowto.com/probability-and-statistics/hypothesis-testing/"
   ]
  }
 ],
 "metadata": {
  "kernelspec": {
   "display_name": "Python 3",
   "language": "python",
   "name": "python3"
  },
  "language_info": {
   "codemirror_mode": {
    "name": "ipython",
    "version": 3
   },
   "file_extension": ".py",
   "mimetype": "text/x-python",
   "name": "python",
   "nbconvert_exporter": "python",
   "pygments_lexer": "ipython3",
   "version": "3.8.3"
  },
  "latex_envs": {
   "LaTeX_envs_menu_present": true,
   "autoclose": false,
   "autocomplete": true,
   "bibliofile": "biblio.bib",
   "cite_by": "apalike",
   "current_citInitial": 1,
   "eqLabelWithNumbers": true,
   "eqNumInitial": 1,
   "hotkeys": {
    "equation": "Ctrl-E",
    "itemize": "Ctrl-I"
   },
   "labels_anchors": false,
   "latex_user_defs": false,
   "report_style_numbering": false,
   "user_envs_cfg": false
  }
 },
 "nbformat": 4,
 "nbformat_minor": 4
}
